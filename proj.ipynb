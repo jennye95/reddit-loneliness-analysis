{
 "cells": [
  {
   "cell_type": "markdown",
   "id": "e076e6cb",
   "metadata": {},
   "source": [
    "## Analyzing Loneliness in University Subreddits with Topic Modeling\n",
    "\n",
    "#### Pushshift Reddit Archive (API Access to Posts & Comments)"
   ]
  },
  {
   "cell_type": "markdown",
   "id": "a68a2ad5",
   "metadata": {},
   "source": [
    "## 1. Data Collection\n",
    "\n",
    "In this section, we collect Reddit posts and comments from university-related subreddits using the PullPush API (a public Pushshift Reddit data mirror). We target posts from the past 1 year that contain loneliness-related keywords. Specifically, we will search for posts mentioning terms like \"lonely\", \"alone\", \"isolation\", or \"social anxiety\" in subreddits such as r/college and r/GradSchool. We will fetch a limited number of results (on the order of a few hundred per keyword per subreddit) to keep the dataset size manageable (around 500–2000 total documents).\n",
    "\n",
    "\n",
    "\n",
    "We restrict to items from the last 12 months using a timestamp filter. We also ensure to skip any deleted or removed content. Both submissions (original posts with title and selftext) and comments will be collected. For submissions, we will combine the title and body text into one field. We aim to gather a diverse yet concise dataset of Reddit texts related to loneliness in a college/graduate school context. \n",
    "\n",
    "\n",
    "We will use the requests library to call the PullPush API. We will gather results for each keyword and subreddit, and avoid duplicates. We also include code to handle potential errors (e.g., network issues or no results found).\n"
   ]
  },
  {
   "cell_type": "code",
   "execution_count": 1,
   "id": "f655c804",
   "metadata": {},
   "outputs": [
    {
     "name": "stdout",
     "output_type": "stream",
     "text": [
      "Note: you may need to restart the kernel to use updated packages.\n"
     ]
    }
   ],
   "source": [
    "# Install necessary libraries (if not already installed in the environment)\n",
    "\n",
    "%pip install requests pandas nltk gensim matplotlib plotly scikit-learn sentence_transformers bertopic umap-learn hdbscan -q"
   ]
  },
  {
   "cell_type": "code",
   "execution_count": 2,
   "id": "5aa663af",
   "metadata": {},
   "outputs": [
    {
     "name": "stderr",
     "output_type": "stream",
     "text": [
      "/Users/jennyye/miniconda3/envs/si649/lib/python3.11/site-packages/pandas/core/arrays/masked.py:60: UserWarning: Pandas requires version '1.3.6' or newer of 'bottleneck' (version '1.3.5' currently installed).\n",
      "  from pandas.core import (\n"
     ]
    }
   ],
   "source": [
    "# Import libraries for data collection and analysis\n",
    "import requests\n",
    "import pandas as pd\n",
    "import time\n",
    "import nltk\n",
    "import re\n",
    "\n",
    "# Define search parameters\n",
    "subreddits = [\"college\", \"GradSchool\"]  # target subreddits\n",
    "keywords = [\"lonely\", \"alone\", \"isolation\", \"social anxiety\"]  # loneliness-related keywords\n",
    "\n",
    "# Calculate epoch timestamp for one year ago from now\n",
    "one_year_ago = int(time.time() - 365*24*3600)\n"
   ]
  },
  {
   "cell_type": "code",
   "execution_count": 3,
   "id": "3d9b76c9",
   "metadata": {},
   "outputs": [],
   "source": [
    "# Container for collected posts/comments\n",
    "all_posts = []\n",
    "seen_ids = set()\n",
    "\n",
    "base_url = \"https://api.pullpush.io/reddit/search\""
   ]
  },
  {
   "cell_type": "code",
   "execution_count": 4,
   "id": "ca99b8d9",
   "metadata": {},
   "outputs": [
    {
     "name": "stderr",
     "output_type": "stream",
     "text": [
      "  ↳ keywords in r/college:   0%|          | 0/4 [00:00<?, ?it/s]"
     ]
    },
    {
     "name": "stdout",
     "output_type": "stream",
     "text": [
      "Processing data\n"
     ]
    },
    {
     "name": "stderr",
     "output_type": "stream",
     "text": [
      "  ↳ keywords in r/college:  25%|██▌       | 1/4 [00:04<00:13,  4.61s/it]"
     ]
    },
    {
     "name": "stdout",
     "output_type": "stream",
     "text": [
      "Processing data\n"
     ]
    },
    {
     "name": "stderr",
     "output_type": "stream",
     "text": [
      "  ↳ keywords in r/college:  50%|█████     | 2/4 [00:10<00:10,  5.40s/it]"
     ]
    },
    {
     "name": "stdout",
     "output_type": "stream",
     "text": [
      "Processing data\n"
     ]
    },
    {
     "name": "stderr",
     "output_type": "stream",
     "text": [
      "  ↳ keywords in r/college:  75%|███████▌  | 3/4 [00:13<00:04,  4.17s/it]"
     ]
    },
    {
     "name": "stdout",
     "output_type": "stream",
     "text": [
      "Processing data\n"
     ]
    },
    {
     "name": "stderr",
     "output_type": "stream",
     "text": [
      "  ↳ keywords in r/GradSchool:   0%|          | 0/4 [00:00<?, ?it/s]     "
     ]
    },
    {
     "name": "stdout",
     "output_type": "stream",
     "text": [
      "Processing data\n"
     ]
    },
    {
     "name": "stderr",
     "output_type": "stream",
     "text": [
      "  ↳ keywords in r/GradSchool:  25%|██▌       | 1/4 [00:03<00:09,  3.19s/it]"
     ]
    },
    {
     "name": "stdout",
     "output_type": "stream",
     "text": [
      "Processing data\n"
     ]
    },
    {
     "name": "stderr",
     "output_type": "stream",
     "text": [
      "  ↳ keywords in r/GradSchool:  50%|█████     | 2/4 [00:06<00:06,  3.43s/it]"
     ]
    },
    {
     "name": "stdout",
     "output_type": "stream",
     "text": [
      "Processing data\n"
     ]
    },
    {
     "name": "stderr",
     "output_type": "stream",
     "text": [
      "  ↳ keywords in r/GradSchool:  75%|███████▌  | 3/4 [00:10<00:03,  3.54s/it]"
     ]
    },
    {
     "name": "stdout",
     "output_type": "stream",
     "text": [
      "Processing data\n"
     ]
    },
    {
     "name": "stderr",
     "output_type": "stream",
     "text": [
      "                                                                           \r"
     ]
    }
   ],
   "source": [
    "from tqdm import tqdm\n",
    "\n",
    "# Loop over each subreddit and keyword\n",
    "for sub in subreddits:\n",
    "    for term in tqdm(keywords, desc=f\"  ↳ keywords in r/{sub}\", leave=False):\n",
    "        # Build the API query URL for submissions\n",
    "        query_params = {\n",
    "            \"q\": term,\n",
    "            \"subreddit\": sub,\n",
    "            \"after\": one_year_ago,\n",
    "            \"size\": 100  # pull up to 100 results per query\n",
    "        }\n",
    "        try:\n",
    "            # Search submissions (posts)\n",
    "            resp_sub = requests.get(f\"{base_url}/submission/\", params=query_params)\n",
    "            resp_sub.raise_for_status()\n",
    "            data_sub = resp_sub.json().get(\"data\", [])\n",
    "\n",
    "        except Exception as e:\n",
    "            print(f\"Failed to fetch submissions for r/{sub} query '{term}': {e}\")\n",
    "            data_sub = []\n",
    "\n",
    "        # Process each retrieved submission\n",
    "        print(\"Processing data\")\n",
    "        for item in data_sub:\n",
    "            post_id = item.get(\"id\")\n",
    "            if post_id is None:\n",
    "                continue\n",
    "            unique_id = f\"submission_{post_id}\"\n",
    "            if unique_id in seen_ids:\n",
    "                continue  # skip duplicates\n",
    "            # Combine title and selftext\n",
    "            title = item.get(\"title\", \"\")\n",
    "            selftext = item.get(\"selftext\", \"\")\n",
    "            # Skip if both title and text are basically empty or placeholders\n",
    "            if not title:\n",
    "                continue\n",
    "            if selftext in [\"[removed]\", \"[deleted]\", None]:\n",
    "                text = title  # use title only if body is removed or empty\n",
    "            else:\n",
    "                text = title + \" \" + selftext\n",
    "            # Skip if text after combination is very short or still just a placeholder\n",
    "            if text.strip().lower() in [\"[removed]\", \"[deleted]\", \"\"]:\n",
    "                continue\n",
    "            # Add to list\n",
    "            all_posts.append({\n",
    "                \"id\": post_id,\n",
    "                \"subreddit\": item.get(\"subreddit\", sub),\n",
    "                \"type\": \"submission\",\n",
    "                \"text\": text\n",
    "            })\n",
    "            seen_ids.add(unique_id)\n",
    "        try:\n",
    "            # Search comments\n",
    "            resp_com = requests.get(f\"{base_url}/comment/\", params=query_params)\n",
    "            resp_com.raise_for_status()\n",
    "            data_com = resp_com.json().get(\"data\", [])\n",
    "        \n",
    "        except Exception as e:\n",
    "            print(f\"Failed to fetch comments for r/{sub} query '{term}': {e}\")\n",
    "            data_com = []\n",
    "        # Process each retrieved comment\n",
    "        for item in data_com:\n",
    "            comment_id = item.get(\"id\")\n",
    "            if comment_id is None:\n",
    "                continue\n",
    "            unique_id = f\"comment_{comment_id}\"\n",
    "            if unique_id in seen_ids:\n",
    "                continue\n",
    "            body = item.get(\"body\", \"\")\n",
    "            # Skip if comment is deleted/removed or empty\n",
    "            if not body or body in [\"[removed]\", \"[deleted]\"]:\n",
    "                continue\n",
    "            # Add to list\n",
    "            all_posts.append({\n",
    "                \"id\": comment_id,\n",
    "                \"subreddit\": item.get(\"subreddit\", sub),\n",
    "                \"type\": \"comment\",\n",
    "                \"text\": body\n",
    "            })\n",
    "            seen_ids.add(unique_id)"
   ]
  },
  {
   "cell_type": "code",
   "execution_count": 5,
   "id": "c8950708",
   "metadata": {},
   "outputs": [
    {
     "name": "stdout",
     "output_type": "stream",
     "text": [
      "Collected 1350 posts/comments from Reddit (before cleaning).\n",
      "  subreddit        type                                               text\n",
      "0   college  submission                             anxiety and loneliness\n",
      "1   college  submission  long distance situationship? long distance sit...\n",
      "2   college  submission  How to not be miserable in college? I just tal...\n"
     ]
    }
   ],
   "source": [
    "# Convert to DataFrame for easier manipulation\n",
    "df = pd.DataFrame(all_posts)\n",
    "print(f\"Collected {len(df)} posts/comments from Reddit (before cleaning).\")\n",
    "# Optional: peek at a few collected texts\n",
    "print(df[['subreddit','type','text']].head(3))"
   ]
  },
  {
   "cell_type": "markdown",
   "id": "498add12",
   "metadata": {},
   "source": [
    "The above code queries the PullPush API for each combination of subreddit (r/college and r/GradSchool) and keyword. We retrieve up to 100 results for submissions and comments separately for each query. And then, we filter out any entries that are marked as \"[removed]\" or \"[deleted]\" and skip duplicates by tracking seen IDs. The data is stored in a pandas DataFrame for convenience. Finally, we print the number of items collected and show a small sample of the data (with subreddit and type) to verify the content."
   ]
  },
  {
   "cell_type": "markdown",
   "id": "bd190c5d",
   "metadata": {},
   "source": [
    "### 2. Data Preprocessing\n",
    "\n",
    "Raw text from social media often contains noise and inconsistencies, so we need to preprocess the data before analysis. Our preprocessing will include:\n",
    "\n",
    "* Lowercasing all text to ensure case-insensitivity.\n",
    "* Removing URLs (links) and any user or subreddit mentions (if present), as these are not relevant to content.\n",
    "* Removing punctuation and special characters, leaving only alphabets (and optionally numbers) and whitespace.\n",
    "* Removing stopwords (common words like \"the\", \"and\", \"is\", etc.) for certain analyses (like LDA) to focus on meaningful words.\n",
    "* Filtering out very short texts or placeholder texts that might have slipped through (though we already removed obvious \"[deleted]\" entries, we'll also drop entries that are extremely short or non-informative).\n",
    "* Tokenizing the text (splitting into words) for methods that require token input (like LDA).\n",
    "\n",
    "We will create a cleaned text column and a tokenized representation. The cleaned full text (with stopwords retained) will be useful for embedding models (which understand sentence context), whereas the tokenized list with stopwords removed will be used for classical LDA topic modeling."
   ]
  },
  {
   "cell_type": "code",
   "execution_count": 6,
   "id": "fc8b22a3",
   "metadata": {},
   "outputs": [
    {
     "name": "stdout",
     "output_type": "stream",
     "text": [
      "Dataset contains 1343 documents after cleaning and filtering.\n",
      "  subreddit        type                                               text\n",
      "0   college  submission                             anxiety and loneliness\n",
      "1   college  submission  long distance situationship long distance situ...\n",
      "Sample tokens: ['anxiety', 'loneliness']\n"
     ]
    }
   ],
   "source": [
    "# Download NLTK stopwords list\n",
    "nltk.download('stopwords', quiet=True)\n",
    "stop_words = set(nltk.corpus.stopwords.words('english'))\n",
    "\n",
    "# Define a text cleaning function\n",
    "def clean_text(text):\n",
    "    # Lowercase\n",
    "    text = text.lower()\n",
    "    # Remove URLs\n",
    "    text = re.sub(r'http\\S+|www\\.\\S+', '', text)\n",
    "    # Remove subreddit or user mentions (e.g., \"r/college\", \"u/username\")\n",
    "    text = re.sub(r'[\\[()\\]]', ' ', text)  # remove brackets that might surround [removed] or so\n",
    "    text = re.sub(r'\\/?r\\/\\w+|\\/?u\\/\\w+', '', text)\n",
    "    # Remove non-alphanumeric characters (punctuation), keep spaces\n",
    "    text = re.sub(r'[^a-z0-9\\s]', ' ', text)\n",
    "    # Collapse multiple spaces and strip leading/trailing whitespace\n",
    "    text = re.sub(r'\\s+', ' ', text).strip()\n",
    "    return text\n",
    "\n",
    "# Apply cleaning to the text column\n",
    "df['text'] = df['text'].astype(str).apply(clean_text)\n",
    "\n",
    "# Remove entries that became empty or too short after cleaning\n",
    "df['length'] = df['text'].str.split().apply(len)\n",
    "df = df[df['length'] >= 3].copy()  # keep only texts with 3 or more words\n",
    "\n",
    "# Tokenize and remove stopwords for LDA\n",
    "df['tokens'] = df['text'].apply(lambda txt: [w for w in txt.split() if w not in stop_words])\n",
    "\n",
    "print(f\"Dataset contains {len(df)} documents after cleaning and filtering.\")\n",
    "# Show a preview of cleaned text and tokens\n",
    "print(df[['subreddit', 'type', 'text']].head(2))\n",
    "print(\"Sample tokens:\", df['tokens'].iloc[0][:10])\n"
   ]
  },
  {
   "cell_type": "markdown",
   "id": "40535573",
   "metadata": {},
   "source": [
    "### 3. Topic Modeling with LDA (Latent Dirichlet Allocation)"
   ]
  },
  {
   "cell_type": "markdown",
   "id": "b6cfb9de",
   "metadata": {},
   "source": [
    "We will use Gensim to build an LDA model:\n",
    "\n",
    "* First, we create a dictionary of all words and convert our tokenized documents into a bag-of-words corpus.\n",
    "* We configure the LDA model with a chosen number of topics (for example, we'll try 5 topics to get a broad sense of themes).\n",
    "* We train the model on our corpus. This will iterate over the data multiple times (passes) to adjust the word-topic assignments.\n",
    "* After training, we retrieve the top words that define each topic.\n",
    "\n",
    "To make the results understandable, we will visualize the top words per topic using a bar chart for each topic. This helps us see which keywords are most important in each discovered theme."
   ]
  },
  {
   "cell_type": "code",
   "execution_count": 7,
   "id": "0a3e0136",
   "metadata": {},
   "outputs": [
    {
     "data": {
      "image/png": "[encoded data removed]",
      "text/plain": [
       "<Figure size 1500x800 with 6 Axes>"
      ]
     },
     "metadata": {},
     "output_type": "display_data"
    }
   ],
   "source": [
    "import gensim.corpora as corpora\n",
    "from gensim.models.ldamodel import LdaModel\n",
    "import matplotlib.pyplot as plt\n",
    "\n",
    "# Create a dictionary representation of the documents\n",
    "dictionary = corpora.Dictionary(df['tokens'])\n",
    "# Filter out extreme terms to reduce noise: remove too rare or too common words\n",
    "dictionary.filter_extremes(no_below=5, no_above=0.5)  # remove words that appear in <5 docs or >50% of docs\n",
    "\n",
    "# Convert the tokenized documents into a bag-of-words corpus\n",
    "corpus = [dictionary.doc2bow(tokens) for tokens in df['tokens']]\n",
    "\n",
    "# Set number of topics for LDA\n",
    "num_topics = 5\n",
    "# Train the LDA model\n",
    "lda_model = LdaModel(corpus=corpus, id2word=dictionary, num_topics=num_topics, random_state=42, passes=10)\n",
    "\n",
    "# Get top words for each topic\n",
    "topics = lda_model.show_topics(num_topics=num_topics, num_words=10, formatted=False)\n",
    "\n",
    "# Plot top words for each topic using bar charts\n",
    "num_topics = len(topics)\n",
    "cols = 3  # number of columns for subplots\n",
    "rows = (num_topics - 1) // cols + 1\n",
    "fig, axes = plt.subplots(rows, cols, figsize=(15, 8))\n",
    "axes = axes.flatten()\n",
    "\n",
    "for i, topic in enumerate(topics):\n",
    "    topic_id, word_probs = topic\n",
    "    # Separate words and their probabilities\n",
    "    words = [wp[0] for wp in word_probs]\n",
    "    probs = [wp[1] for wp in word_probs]\n",
    "    ax = axes[i]\n",
    "    ax.barh(words, probs, color='skyblue')\n",
    "    ax.invert_yaxis()  # so the highest probability word is at the top\n",
    "    ax.set_title(f\"Topic {topic_id}\", fontsize=12)\n",
    "    ax.set_xlabel(\"Probability\")\n",
    "    ax.set_ylabel(\"Top words\")\n",
    "\n",
    "# Turn off any empty subplots\n",
    "for j in range(i+1, len(axes)):\n",
    "    axes[j].axis('off')\n",
    "\n",
    "plt.tight_layout()\n",
    "plt.show()\n"
   ]
  },
  {
   "cell_type": "markdown",
   "id": "b2975481",
   "metadata": {},
   "source": [
    "We built a dictionary of words and then created a corpus in bag-of-words format (each document represented as word ID frequencies). The Gensim LDA model is trained to find num_topics latent topics. We chose 5 topics for this analysis as a reasonable starting point. \n",
    "\n",
    "After training for 10 passes through the corpus, we extracted the top 10 words for each topic. In the visualization, each subplot corresponds to one topic, showing the top words (y-axis) and their relative importance/probability in that topic (x-axis). This gives us an interpretable view of the LDA topics. \n",
    "\n",
    "For example, we might see one topic's top words indicating themes of friendship and socializing, while another topic's words might relate to mental health or academic stress, etc., illustrating different facets of loneliness among students. (The actual words and topics would be visible in the chart above when the code is run.)"
   ]
  },
  {
   "cell_type": "markdown",
   "id": "61711372",
   "metadata": {},
   "source": [
    "### 4. Sentence Embeddings and Clustering"
   ]
  },
  {
   "cell_type": "markdown",
   "id": "13efc1ae",
   "metadata": {},
   "source": [
    "While LDA looks at word frequency patterns, we can also take a more semantic approach using modern language models.\n",
    "\n",
    "We'll use Sentence-BERT (specifically the 'all-MiniLM-L6-v2' model) to convert each Reddit post/comment into a numerical embedding vector that captures its meaning. Sentence-BERT generates a high-dimensional dense vector for each text such that texts with similar content/meaning end up with similar vectors."
   ]
  },
  {
   "cell_type": "markdown",
   "id": "1c3ca4a3",
   "metadata": {},
   "source": [
    "Steps:\n",
    "\n",
    "* Use the sentence_transformers library to load the all-MiniLM-L6-v2 pre-trained model.\n",
    "* Compute the sentence embedding for each cleaned text in our dataset.\n",
    "* Use KMeans clustering on these embeddings to group texts into a predetermined number of clusters (we can choose a number, say 5 clusters, analogous to the LDA topics for comparison).\n",
    "* Use t-SNE (t-distributed Stochastic Neighbor Embedding) to reduce the high-dimensional embeddings to 2D for visualization purposes.\n",
    "* Plot the embedded texts on a 2D scatter plot, coloring each point by its cluster label.\n",
    "\n",
    "Clustering the embeddings allows us to see if the model groups the posts in a meaningful way (possibly differently from LDA). The t-SNE visualization helps us inspect how distinct or overlapping the clusters are.\n"
   ]
  },
  {
   "cell_type": "code",
   "execution_count": 8,
   "id": "296c5d65",
   "metadata": {},
   "outputs": [
    {
     "name": "stderr",
     "output_type": "stream",
     "text": [
      "huggingface/tokenizers: The current process just got forked, after parallelism has already been used. Disabling parallelism to avoid deadlocks...\n",
      "To disable this warning, you can either:\n",
      "\t- Avoid using `tokenizers` before the fork if possible\n",
      "\t- Explicitly set the environment variable TOKENIZERS_PARALLELISM=(true | false)\n"
     ]
    },
    {
     "data": {
      "image/png": "[encoded data removed]",
      "text/plain": [
       "<Figure size 800x600 with 1 Axes>"
      ]
     },
     "metadata": {},
     "output_type": "display_data"
    }
   ],
   "source": [
    "from sentence_transformers import SentenceTransformer\n",
    "from sklearn.cluster import KMeans\n",
    "from sklearn.manifold import TSNE\n",
    "\n",
    "# Generate sentence embeddings for each document\n",
    "model = SentenceTransformer('all-MiniLM-L6-v2')\n",
    "documents = df['text'].tolist()\n",
    "embeddings = model.encode(documents, show_progress_bar=False)\n",
    "\n",
    "# Cluster the embeddings using KMeans\n",
    "num_clusters = 5\n",
    "kmeans = KMeans(n_clusters=num_clusters, random_state=42)\n",
    "cluster_labels = kmeans.fit_predict(embeddings)\n",
    "\n",
    "# Reduce dimensionality for visualization (using t-SNE)\n",
    "tsne = TSNE(n_components=2, perplexity=30, random_state=42, init='pca', learning_rate='auto')\n",
    "embeddings_2d = tsne.fit_transform(embeddings)\n",
    "\n",
    "# Create a scatter plot of the clustered embeddings\n",
    "plt.figure(figsize=(8,6))\n",
    "for cluster in range(num_clusters):\n",
    "    # Select points belonging to this cluster\n",
    "    idx = (cluster_labels == cluster)\n",
    "    plt.scatter(embeddings_2d[idx, 0], embeddings_2d[idx, 1], \n",
    "                label=f\"Cluster {cluster}\", alpha=0.7)\n",
    "plt.title(\"KMeans Clusters of Sentence Embeddings\")\n",
    "plt.xlabel(\"TSNE Dimension 1\")\n",
    "plt.ylabel(\"TSNE Dimension 2\")\n",
    "plt.legend()\n",
    "plt.show()\n"
   ]
  },
  {
   "cell_type": "markdown",
   "id": "3343ecb1",
   "metadata": {},
   "source": [
    "We loaded a pre-trained SentenceTransformer model (all-MiniLM-L6-v2) and encoded each text into a 384-dimensional vector. These embeddings capture semantic similarities between posts (for example, two posts both talking about feeling isolated in dorms should end up with similar vectors).\n",
    "\n",
    "We then applied KMeans to partition these vectors into 5 clusters. Each cluster might correspond to a thematic grouping of posts (we'll examine what they could represent by later analyzing representative words or posts per cluster). To visualize the clusters, we used t-SNE to project the 384-dimensional embeddings down to 2 dimensions (while trying to preserve neighborhood relationships).\n",
    "\n",
    "The scatter plot shows each post as a point in this 2D space, colored by its cluster label. If the clustering is meaningful, points of the same color will form blobs or groups. For instance, one cluster might group posts about having no friends on campus, while another cluster might group posts about anxiety in social situations, etc. In the plot above, we can see how well-separated or overlapping the clusters are, which gives an idea of how distinct the themes are in the embedding space.\n"
   ]
  },
  {
   "cell_type": "markdown",
   "id": "4c317d98",
   "metadata": {},
   "source": [
    "### 5. Topic Modeling with BERTopic (BERT + Clustering)\n",
    "\n",
    "Finally, we use BERTopic, a state-of-the-art topic modeling technique that leverages BERT embeddings and clustering algorithms to find topics. \n",
    "\n",
    "BERTopic works by:\n",
    "* Using document embeddings (like we computed) to group documents into clusters (it often uses HDBSCAN, a density-based clustering method, to find a suitable number of clusters and allow some documents to be outliers if they don't fit well).\n",
    "* For each cluster of documents, extracting representative words using a class-based TF-IDF (c-TF-IDF) to create a human-interpretable topic description.\n",
    "\n",
    "By using BERT embeddings, BERTopic can capture nuanced semantic relationships, potentially yielding more coherent topics than LDA on short texts like Reddit comments. It also automatically determines the number of topics based on the data distribution (unlike LDA where we fixed it to 5). We will feed the same embeddings we computed from Sentence-BERT into BERTopic to avoid re-computation. Then we will:\n",
    "\n",
    "* Fit the BERTopic model to obtain topics.\n",
    "* Retrieve the top words for each topic.\n",
    "* Use BERTopic's built-in interactive visualization to explore the topics."
   ]
  },
  {
   "cell_type": "code",
   "execution_count": 9,
   "id": "d8d57f28",
   "metadata": {},
   "outputs": [],
   "source": [
    "from sklearn.feature_extraction.text import CountVectorizer\n",
    "from nltk.corpus import stopwords\n",
    "\n",
    "# 1) build your extended stop‑word collection\n",
    "nltk_stop = set(stopwords.words(\"english\"))\n",
    "extra_stop = {\n",
    "    \"i\", \"me\", \"my\", \"u\", \"we\", \"us\", \"it\",\n",
    "    \"to\", \"from\", \"of\", \"in\", \"on\", \"for\",\n",
    "    \"and\", \"or\", \"but\", \"the\", \"a\", \"an\",\n",
    "    \"is\", \"are\", \"was\", \"were\", \"be\"\n",
    "}\n",
    "all_stop = nltk_stop.union(extra_stop)\n",
    "\n",
    "# 2) Convert to *list* before passing in\n",
    "vectorizer_model = CountVectorizer(\n",
    "    stop_words=list(all_stop),   #  ← convert set → list\n",
    "    ngram_range=(1, 2),\n",
    "    min_df=5\n",
    ")\n"
   ]
  },
  {
   "cell_type": "code",
   "execution_count": 10,
   "id": "902b0c2f",
   "metadata": {},
   "outputs": [
    {
     "name": "stderr",
     "output_type": "stream",
     "text": [
      "OMP: Info #276: omp_set_nested routine deprecated, please use omp_set_max_active_levels instead.\n"
     ]
    },
    {
     "name": "stdout",
     "output_type": "stream",
     "text": [
      "Topic 0: like, school, time, college, feel\n",
      "Topic 1: anxiety, social, social anxiety, people, class\n",
      "Topic 2: dorm, room, roommate, living, roommates\n",
      "Topic 3: class, professor, know, phone, said\n",
      "Topic 4: fuck, like, student, lab, people\n",
      "Topic 5: dog, home, care, get, would\n",
      "Topic 6: students, universities, people, rights, university\n",
      "Topic 7: awkward, something, friend, student, one\n",
      "Topic 8: alone, pay, area, time, apartment\n",
      "BERTopic discovered 9 topics (excluding outliers).\n",
      "   Topic  Count                                    Name\n",
      "0      0    867              0_like_school_time_college\n",
      "1      1    111  1_anxiety_social_social anxiety_people\n",
      "2      2     45             2_dorm_room_roommate_living\n",
      "3      3     31            3_class_professor_know_phone\n",
      "4      4     24                 4_fuck_like_student_lab\n",
      "Topic 0: like, school, time, college, feel\n",
      "Topic 1: anxiety, social, social anxiety, people, class\n",
      "Topic 2: dorm, room, roommate, living, roommates\n",
      "Topic 3: class, professor, know, phone, said\n",
      "Topic 4: fuck, like, student, lab, people\n",
      "Topic 5: dog, home, care, get, would\n",
      "Topic 6: students, universities, people, rights, university\n",
      "Topic 7: awkward, something, friend, student, one\n",
      "Topic 8: alone, pay, area, time, apartment\n"
     ]
    },
    {
     "data": {
      "application/vnd.plotly.v1+json": {
       "config": {
        "plotlyServerURL": "https://plot.ly"
       },
       "data": [
        {
         "customdata": [
          [
           0,
           "like | school | time | college | feel",
           867
          ],
          [
           1,
           "anxiety | social | social anxiety | people | class",
           111
          ],
          [
           2,
           "dorm | room | roommate | living | roommates",
           45
          ],
          [
           3,
           "class | professor | know | phone | said",
           31
          ],
          [
           4,
           "fuck | like | student | lab | people",
           24
          ],
          [
           5,
           "dog | home | care | get | would",
           19
          ],
          [
           6,
           "students | universities | people | rights | university",
           13
          ],
          [
           7,
           "awkward | something | friend | student | one",
           12
          ]
         ],
         "hovertemplate": "<b>Topic %{customdata[0]}</b><br>%{customdata[1]}<br>Size: %{customdata[2]}",
         "legendgroup": "",
         "marker": {
          "color": "#B0BEC5",
          "line": {
           "color": "DarkSlateGrey",
           "width": 2
          },
          "size": {
           "bdata": "YwNvAC0AHwAYABMADQAMAA==",
           "dtype": "i2"
          },
          "sizemode": "area",
          "sizeref": 0.541875,
          "symbol": "circle"
         },
         "mode": "markers",
         "name": "",
         "orientation": "v",
         "showlegend": false,
         "type": "scatter",
         "x": {
          "bdata": "zufWQPt65UCz74jB5qvMQDUY5EAApovBwnrZQDhr1kA=",
          "dtype": "f4"
         },
         "xaxis": "x",
         "y": {
          "bdata": "YH1AQalORUGDoQpCAlg2QRScIkGu/AtC6HgcQYHgK0E=",
          "dtype": "f4"
         },
         "yaxis": "y"
        }
       ],
       "layout": {
        "annotations": [
         {
          "showarrow": false,
          "text": "D1",
          "x": -20.074462890625,
          "y": 24.279430770874022,
          "yshift": 10
         },
         {
          "showarrow": false,
          "text": "D2",
          "x": -5.913755643367767,
          "xshift": 10,
          "y": 40.24627113342285
         }
        ],
        "height": 650,
        "hoverlabel": {
         "bgcolor": "white",
         "font": {
          "family": "Rockwell",
          "size": 16
         }
        },
        "legend": {
         "itemsizing": "constant",
         "tracegroupgap": 0
        },
        "margin": {
         "t": 60
        },
        "shapes": [
         {
          "line": {
           "color": "#CFD8DC",
           "width": 2
          },
          "type": "line",
          "x0": -5.913755643367767,
          "x1": -5.913755643367767,
          "y0": 8.312590408325196,
          "y1": 40.24627113342285
         },
         {
          "line": {
           "color": "#9E9E9E",
           "width": 2
          },
          "type": "line",
          "x0": -20.074462890625,
          "x1": 8.246951603889466,
          "y0": 24.279430770874022,
          "y1": 24.279430770874022
         }
        ],
        "sliders": [
         {
          "active": 0,
          "pad": {
           "t": 50
          },
          "steps": [
           {
            "args": [
             {
              "marker.color": [
               [
                "red",
                "#B0BEC5",
                "#B0BEC5",
                "#B0BEC5",
                "#B0BEC5",
                "#B0BEC5",
                "#B0BEC5",
                "#B0BEC5"
               ]
              ]
             }
            ],
            "label": "Topic 0",
            "method": "update"
           },
           {
            "args": [
             {
              "marker.color": [
               [
                "#B0BEC5",
                "red",
                "#B0BEC5",
                "#B0BEC5",
                "#B0BEC5",
                "#B0BEC5",
                "#B0BEC5",
                "#B0BEC5"
               ]
              ]
             }
            ],
            "label": "Topic 1",
            "method": "update"
           },
           {
            "args": [
             {
              "marker.color": [
               [
                "#B0BEC5",
                "#B0BEC5",
                "red",
                "#B0BEC5",
                "#B0BEC5",
                "#B0BEC5",
                "#B0BEC5",
                "#B0BEC5"
               ]
              ]
             }
            ],
            "label": "Topic 2",
            "method": "update"
           },
           {
            "args": [
             {
              "marker.color": [
               [
                "#B0BEC5",
                "#B0BEC5",
                "#B0BEC5",
                "red",
                "#B0BEC5",
                "#B0BEC5",
                "#B0BEC5",
                "#B0BEC5"
               ]
              ]
             }
            ],
            "label": "Topic 3",
            "method": "update"
           },
           {
            "args": [
             {
              "marker.color": [
               [
                "#B0BEC5",
                "#B0BEC5",
                "#B0BEC5",
                "#B0BEC5",
                "red",
                "#B0BEC5",
                "#B0BEC5",
                "#B0BEC5"
               ]
              ]
             }
            ],
            "label": "Topic 4",
            "method": "update"
           },
           {
            "args": [
             {
              "marker.color": [
               [
                "#B0BEC5",
                "#B0BEC5",
                "#B0BEC5",
                "#B0BEC5",
                "#B0BEC5",
                "red",
                "#B0BEC5",
                "#B0BEC5"
               ]
              ]
             }
            ],
            "label": "Topic 5",
            "method": "update"
           },
           {
            "args": [
             {
              "marker.color": [
               [
                "#B0BEC5",
                "#B0BEC5",
                "#B0BEC5",
                "#B0BEC5",
                "#B0BEC5",
                "#B0BEC5",
                "red",
                "#B0BEC5"
               ]
              ]
             }
            ],
            "label": "Topic 6",
            "method": "update"
           },
           {
            "args": [
             {
              "marker.color": [
               [
                "#B0BEC5",
                "#B0BEC5",
                "#B0BEC5",
                "#B0BEC5",
                "#B0BEC5",
                "#B0BEC5",
                "#B0BEC5",
                "red"
               ]
              ]
             }
            ],
            "label": "Topic 7",
            "method": "update"
           }
          ]
         }
        ],
        "template": {
         "data": {
          "bar": [
           {
            "error_x": {
             "color": "rgb(36,36,36)"
            },
            "error_y": {
             "color": "rgb(36,36,36)"
            },
            "marker": {
             "line": {
              "color": "white",
              "width": 0.5
             },
             "pattern": {
              "fillmode": "overlay",
              "size": 10,
              "solidity": 0.2
             }
            },
            "type": "bar"
           }
          ],
          "barpolar": [
           {
            "marker": {
             "line": {
              "color": "white",
              "width": 0.5
             },
             "pattern": {
              "fillmode": "overlay",
              "size": 10,
              "solidity": 0.2
             }
            },
            "type": "barpolar"
           }
          ],
          "carpet": [
           {
            "aaxis": {
             "endlinecolor": "rgb(36,36,36)",
             "gridcolor": "white",
             "linecolor": "white",
             "minorgridcolor": "white",
             "startlinecolor": "rgb(36,36,36)"
            },
            "baxis": {
             "endlinecolor": "rgb(36,36,36)",
             "gridcolor": "white",
             "linecolor": "white",
             "minorgridcolor": "white",
             "startlinecolor": "rgb(36,36,36)"
            },
            "type": "carpet"
           }
          ],
          "choropleth": [
           {
            "colorbar": {
             "outlinewidth": 1,
             "tickcolor": "rgb(36,36,36)",
             "ticks": "outside"
            },
            "type": "choropleth"
           }
          ],
          "contour": [
           {
            "colorbar": {
             "outlinewidth": 1,
             "tickcolor": "rgb(36,36,36)",
             "ticks": "outside"
            },
            "colorscale": [
             [
              0,
              "#440154"
             ],
             [
              0.1111111111111111,
              "#482878"
             ],
             [
              0.2222222222222222,
              "#3e4989"
             ],
             [
              0.3333333333333333,
              "#31688e"
             ],
             [
              0.4444444444444444,
              "#26828e"
             ],
             [
              0.5555555555555556,
              "#1f9e89"
             ],
             [
              0.6666666666666666,
              "#35b779"
             ],
             [
              0.7777777777777778,
              "#6ece58"
             ],
             [
              0.8888888888888888,
              "#b5de2b"
             ],
             [
              1,
              "#fde725"
             ]
            ],
            "type": "contour"
           }
          ],
          "contourcarpet": [
           {
            "colorbar": {
             "outlinewidth": 1,
             "tickcolor": "rgb(36,36,36)",
             "ticks": "outside"
            },
            "type": "contourcarpet"
           }
          ],
          "heatmap": [
           {
            "colorbar": {
             "outlinewidth": 1,
             "tickcolor": "rgb(36,36,36)",
             "ticks": "outside"
            },
            "colorscale": [
             [
              0,
              "#440154"
             ],
             [
              0.1111111111111111,
              "#482878"
             ],
             [
              0.2222222222222222,
              "#3e4989"
             ],
             [
              0.3333333333333333,
              "#31688e"
             ],
             [
              0.4444444444444444,
              "#26828e"
             ],
             [
              0.5555555555555556,
              "#1f9e89"
             ],
             [
              0.6666666666666666,
              "#35b779"
             ],
             [
              0.7777777777777778,
              "#6ece58"
             ],
             [
              0.8888888888888888,
              "#b5de2b"
             ],
             [
              1,
              "#fde725"
             ]
            ],
            "type": "heatmap"
           }
          ],
          "histogram": [
           {
            "marker": {
             "line": {
              "color": "white",
              "width": 0.6
             }
            },
            "type": "histogram"
           }
          ],
          "histogram2d": [
           {
            "colorbar": {
             "outlinewidth": 1,
             "tickcolor": "rgb(36,36,36)",
             "ticks": "outside"
            },
            "colorscale": [
             [
              0,
              "#440154"
             ],
             [
              0.1111111111111111,
              "#482878"
             ],
             [
              0.2222222222222222,
              "#3e4989"
             ],
             [
              0.3333333333333333,
              "#31688e"
             ],
             [
              0.4444444444444444,
              "#26828e"
             ],
             [
              0.5555555555555556,
              "#1f9e89"
             ],
             [
              0.6666666666666666,
              "#35b779"
             ],
             [
              0.7777777777777778,
              "#6ece58"
             ],
             [
              0.8888888888888888,
              "#b5de2b"
             ],
             [
              1,
              "#fde725"
             ]
            ],
            "type": "histogram2d"
           }
          ],
          "histogram2dcontour": [
           {
            "colorbar": {
             "outlinewidth": 1,
             "tickcolor": "rgb(36,36,36)",
             "ticks": "outside"
            },
            "colorscale": [
             [
              0,
              "#440154"
             ],
             [
              0.1111111111111111,
              "#482878"
             ],
             [
              0.2222222222222222,
              "#3e4989"
             ],
             [
              0.3333333333333333,
              "#31688e"
             ],
             [
              0.4444444444444444,
              "#26828e"
             ],
             [
              0.5555555555555556,
              "#1f9e89"
             ],
             [
              0.6666666666666666,
              "#35b779"
             ],
             [
              0.7777777777777778,
              "#6ece58"
             ],
             [
              0.8888888888888888,
              "#b5de2b"
             ],
             [
              1,
              "#fde725"
             ]
            ],
            "type": "histogram2dcontour"
           }
          ],
          "mesh3d": [
           {
            "colorbar": {
             "outlinewidth": 1,
             "tickcolor": "rgb(36,36,36)",
             "ticks": "outside"
            },
            "type": "mesh3d"
           }
          ],
          "parcoords": [
           {
            "line": {
             "colorbar": {
              "outlinewidth": 1,
              "tickcolor": "rgb(36,36,36)",
              "ticks": "outside"
             }
            },
            "type": "parcoords"
           }
          ],
          "pie": [
           {
            "automargin": true,
            "type": "pie"
           }
          ],
          "scatter": [
           {
            "fillpattern": {
             "fillmode": "overlay",
             "size": 10,
             "solidity": 0.2
            },
            "type": "scatter"
           }
          ],
          "scatter3d": [
           {
            "line": {
             "colorbar": {
              "outlinewidth": 1,
              "tickcolor": "rgb(36,36,36)",
              "ticks": "outside"
             }
            },
            "marker": {
             "colorbar": {
              "outlinewidth": 1,
              "tickcolor": "rgb(36,36,36)",
              "ticks": "outside"
             }
            },
            "type": "scatter3d"
           }
          ],
          "scattercarpet": [
           {
            "marker": {
             "colorbar": {
              "outlinewidth": 1,
              "tickcolor": "rgb(36,36,36)",
              "ticks": "outside"
             }
            },
            "type": "scattercarpet"
           }
          ],
          "scattergeo": [
           {
            "marker": {
             "colorbar": {
              "outlinewidth": 1,
              "tickcolor": "rgb(36,36,36)",
              "ticks": "outside"
             }
            },
            "type": "scattergeo"
           }
          ],
          "scattergl": [
           {
            "marker": {
             "colorbar": {
              "outlinewidth": 1,
              "tickcolor": "rgb(36,36,36)",
              "ticks": "outside"
             }
            },
            "type": "scattergl"
           }
          ],
          "scattermap": [
           {
            "marker": {
             "colorbar": {
              "outlinewidth": 1,
              "tickcolor": "rgb(36,36,36)",
              "ticks": "outside"
             }
            },
            "type": "scattermap"
           }
          ],
          "scattermapbox": [
           {
            "marker": {
             "colorbar": {
              "outlinewidth": 1,
              "tickcolor": "rgb(36,36,36)",
              "ticks": "outside"
             }
            },
            "type": "scattermapbox"
           }
          ],
          "scatterpolar": [
           {
            "marker": {
             "colorbar": {
              "outlinewidth": 1,
              "tickcolor": "rgb(36,36,36)",
              "ticks": "outside"
             }
            },
            "type": "scatterpolar"
           }
          ],
          "scatterpolargl": [
           {
            "marker": {
             "colorbar": {
              "outlinewidth": 1,
              "tickcolor": "rgb(36,36,36)",
              "ticks": "outside"
             }
            },
            "type": "scatterpolargl"
           }
          ],
          "scatterternary": [
           {
            "marker": {
             "colorbar": {
              "outlinewidth": 1,
              "tickcolor": "rgb(36,36,36)",
              "ticks": "outside"
             }
            },
            "type": "scatterternary"
           }
          ],
          "surface": [
           {
            "colorbar": {
             "outlinewidth": 1,
             "tickcolor": "rgb(36,36,36)",
             "ticks": "outside"
            },
            "colorscale": [
             [
              0,
              "#440154"
             ],
             [
              0.1111111111111111,
              "#482878"
             ],
             [
              0.2222222222222222,
              "#3e4989"
             ],
             [
              0.3333333333333333,
              "#31688e"
             ],
             [
              0.4444444444444444,
              "#26828e"
             ],
             [
              0.5555555555555556,
              "#1f9e89"
             ],
             [
              0.6666666666666666,
              "#35b779"
             ],
             [
              0.7777777777777778,
              "#6ece58"
             ],
             [
              0.8888888888888888,
              "#b5de2b"
             ],
             [
              1,
              "#fde725"
             ]
            ],
            "type": "surface"
           }
          ],
          "table": [
           {
            "cells": {
             "fill": {
              "color": "rgb(237,237,237)"
             },
             "line": {
              "color": "white"
             }
            },
            "header": {
             "fill": {
              "color": "rgb(217,217,217)"
             },
             "line": {
              "color": "white"
             }
            },
            "type": "table"
           }
          ]
         },
         "layout": {
          "annotationdefaults": {
           "arrowhead": 0,
           "arrowwidth": 1
          },
          "autotypenumbers": "strict",
          "coloraxis": {
           "colorbar": {
            "outlinewidth": 1,
            "tickcolor": "rgb(36,36,36)",
            "ticks": "outside"
           }
          },
          "colorscale": {
           "diverging": [
            [
             0,
             "rgb(103,0,31)"
            ],
            [
             0.1,
             "rgb(178,24,43)"
            ],
            [
             0.2,
             "rgb(214,96,77)"
            ],
            [
             0.3,
             "rgb(244,165,130)"
            ],
            [
             0.4,
             "rgb(253,219,199)"
            ],
            [
             0.5,
             "rgb(247,247,247)"
            ],
            [
             0.6,
             "rgb(209,229,240)"
            ],
            [
             0.7,
             "rgb(146,197,222)"
            ],
            [
             0.8,
             "rgb(67,147,195)"
            ],
            [
             0.9,
             "rgb(33,102,172)"
            ],
            [
             1,
             "rgb(5,48,97)"
            ]
           ],
           "sequential": [
            [
             0,
             "#440154"
            ],
            [
             0.1111111111111111,
             "#482878"
            ],
            [
             0.2222222222222222,
             "#3e4989"
            ],
            [
             0.3333333333333333,
             "#31688e"
            ],
            [
             0.4444444444444444,
             "#26828e"
            ],
            [
             0.5555555555555556,
             "#1f9e89"
            ],
            [
             0.6666666666666666,
             "#35b779"
            ],
            [
             0.7777777777777778,
             "#6ece58"
            ],
            [
             0.8888888888888888,
             "#b5de2b"
            ],
            [
             1,
             "#fde725"
            ]
           ],
           "sequentialminus": [
            [
             0,
             "#440154"
            ],
            [
             0.1111111111111111,
             "#482878"
            ],
            [
             0.2222222222222222,
             "#3e4989"
            ],
            [
             0.3333333333333333,
             "#31688e"
            ],
            [
             0.4444444444444444,
             "#26828e"
            ],
            [
             0.5555555555555556,
             "#1f9e89"
            ],
            [
             0.6666666666666666,
             "#35b779"
            ],
            [
             0.7777777777777778,
             "#6ece58"
            ],
            [
             0.8888888888888888,
             "#b5de2b"
            ],
            [
             1,
             "#fde725"
            ]
           ]
          },
          "colorway": [
           "#1F77B4",
           "#FF7F0E",
           "#2CA02C",
           "#D62728",
           "#9467BD",
           "#8C564B",
           "#E377C2",
           "#7F7F7F",
           "#BCBD22",
           "#17BECF"
          ],
          "font": {
           "color": "rgb(36,36,36)"
          },
          "geo": {
           "bgcolor": "white",
           "lakecolor": "white",
           "landcolor": "white",
           "showlakes": true,
           "showland": true,
           "subunitcolor": "white"
          },
          "hoverlabel": {
           "align": "left"
          },
          "hovermode": "closest",
          "mapbox": {
           "style": "light"
          },
          "paper_bgcolor": "white",
          "plot_bgcolor": "white",
          "polar": {
           "angularaxis": {
            "gridcolor": "rgb(232,232,232)",
            "linecolor": "rgb(36,36,36)",
            "showgrid": false,
            "showline": true,
            "ticks": "outside"
           },
           "bgcolor": "white",
           "radialaxis": {
            "gridcolor": "rgb(232,232,232)",
            "linecolor": "rgb(36,36,36)",
            "showgrid": false,
            "showline": true,
            "ticks": "outside"
           }
          },
          "scene": {
           "xaxis": {
            "backgroundcolor": "white",
            "gridcolor": "rgb(232,232,232)",
            "gridwidth": 2,
            "linecolor": "rgb(36,36,36)",
            "showbackground": true,
            "showgrid": false,
            "showline": true,
            "ticks": "outside",
            "zeroline": false,
            "zerolinecolor": "rgb(36,36,36)"
           },
           "yaxis": {
            "backgroundcolor": "white",
            "gridcolor": "rgb(232,232,232)",
            "gridwidth": 2,
            "linecolor": "rgb(36,36,36)",
            "showbackground": true,
            "showgrid": false,
            "showline": true,
            "ticks": "outside",
            "zeroline": false,
            "zerolinecolor": "rgb(36,36,36)"
           },
           "zaxis": {
            "backgroundcolor": "white",
            "gridcolor": "rgb(232,232,232)",
            "gridwidth": 2,
            "linecolor": "rgb(36,36,36)",
            "showbackground": true,
            "showgrid": false,
            "showline": true,
            "ticks": "outside",
            "zeroline": false,
            "zerolinecolor": "rgb(36,36,36)"
           }
          },
          "shapedefaults": {
           "fillcolor": "black",
           "line": {
            "width": 0
           },
           "opacity": 0.3
          },
          "ternary": {
           "aaxis": {
            "gridcolor": "rgb(232,232,232)",
            "linecolor": "rgb(36,36,36)",
            "showgrid": false,
            "showline": true,
            "ticks": "outside"
           },
           "baxis": {
            "gridcolor": "rgb(232,232,232)",
            "linecolor": "rgb(36,36,36)",
            "showgrid": false,
            "showline": true,
            "ticks": "outside"
           },
           "bgcolor": "white",
           "caxis": {
            "gridcolor": "rgb(232,232,232)",
            "linecolor": "rgb(36,36,36)",
            "showgrid": false,
            "showline": true,
            "ticks": "outside"
           }
          },
          "title": {
           "x": 0.05
          },
          "xaxis": {
           "automargin": true,
           "gridcolor": "rgb(232,232,232)",
           "linecolor": "rgb(36,36,36)",
           "showgrid": false,
           "showline": true,
           "ticks": "outside",
           "title": {
            "standoff": 15
           },
           "zeroline": false,
           "zerolinecolor": "rgb(36,36,36)"
          },
          "yaxis": {
           "automargin": true,
           "gridcolor": "rgb(232,232,232)",
           "linecolor": "rgb(36,36,36)",
           "showgrid": false,
           "showline": true,
           "ticks": "outside",
           "title": {
            "standoff": 15
           },
           "zeroline": false,
           "zerolinecolor": "rgb(36,36,36)"
          }
         }
        },
        "title": {
         "font": {
          "color": "Black",
          "size": 22
         },
         "text": "<b>Intertopic Distance Map</b>",
         "x": 0.5,
         "xanchor": "center",
         "y": 0.95,
         "yanchor": "top"
        },
        "width": 650,
        "xaxis": {
         "anchor": "y",
         "domain": [
          0,
          1
         ],
         "range": [
          -20.074462890625,
          8.246951603889466
         ],
         "title": {
          "text": ""
         },
         "visible": false
        },
        "yaxis": {
         "anchor": "x",
         "domain": [
          0,
          1
         ],
         "range": [
          8.312590408325196,
          40.24627113342285
         ],
         "title": {
          "text": ""
         },
         "visible": false
        }
       }
      }
     },
     "metadata": {},
     "output_type": "display_data"
    }
   ],
   "source": [
    "from bertopic import BERTopic\n",
    "\n",
    "\n",
    "# # Fit BERTopic model using precomputed embeddings\n",
    "# topic_model = BERTopic(verbose=False)\n",
    "# topics, probabilities = topic_model.fit_transform(documents, embeddings=embeddings)\n",
    "\n",
    "# 3) Re‑fit BERTopic\n",
    "topic_model = BERTopic(vectorizer_model=vectorizer_model, verbose=False)\n",
    "topics, probs = topic_model.fit_transform(documents, embeddings=embeddings)\n",
    "\n",
    "# 4) Inspect cleaner topics\n",
    "for tid in sorted(set(topics) - {-1}):\n",
    "    words = [w for w, _ in topic_model.get_topic(tid)[:5]]\n",
    "    print(f\"Topic {tid}: {', '.join(words)}\")\n",
    "\n",
    "# Get a summary of the discovered topics\n",
    "topics_info = topic_model.get_topic_info()\n",
    "# Filter out the outlier topic (if any, labeled -1 by BERTopic for documents that don't fit well)\n",
    "topics_info = topics_info[topics_info.Topic != -1].reset_index(drop=True)\n",
    "print(f\"BERTopic discovered {topics_info.shape[0]} topics (excluding outliers).\")\n",
    "print(topics_info[['Topic', 'Count', 'Name']].head())\n",
    "\n",
    "# Display top words for each topic\n",
    "for topic_id in sorted(topics_info['Topic']):\n",
    "    words_weights = topic_model.get_topic(topic_id)  # list of (word, c-TF-IDF score)\n",
    "    top_words = [word for word, _ in words_weights[:5]]\n",
    "    print(f\"Topic {topic_id}: {', '.join(top_words)}\")\n",
    "\n",
    "# Generate an interactive visualization of the topics\n",
    "\n",
    "n_topics = topics_info.shape[0]\n",
    "fig = topic_model.visualize_topics(top_n_topics=n_topics-1)\n",
    "fig.show()\n"
   ]
  },
  {
   "cell_type": "markdown",
   "id": "3a3c1779",
   "metadata": {},
   "source": [
    "We created a BERTopic model and provided our list of document texts along with their embeddings. BERTopic found a certain number of topics based on the data (it also labels any outlier documents as topic -1, which we exclude from analysis). We printed the number of topics found (excluding outliers) and listed the top words for each topic to understand their themes. Each topic's top words give a sense of what that cluster of documents is about. For example, we might see one topic with words like \"freshman, dorm, roommate, shy, events\" suggesting a theme of difficulty socializing in college dorm life, while another topic might have \"anxiety, therapy, depression, alone, help\" indicating a mental health and seeking help theme, and so on. \n",
    "\n",
    "Finally, we used BERTopic's visualize_topics() to produce an interactive Plotly visualization. This visual typically shows each topic as a bubble in a 2D space (reduced via UMAP), where the size of the bubble corresponds to the number of documents in that topic. By hovering over or clicking on a topic, one can see its top words and other details. This interactive plot allows us to explore the topic landscape and their relative distances (topics positioned closer in the plot are more similar in terms of their content)."
   ]
  },
  {
   "cell_type": "markdown",
   "id": "1603f6ad",
   "metadata": {},
   "source": [
    "### 6. Conclusion\n",
    "\n",
    "In this project, we analyzed Reddit discussions about loneliness in college and graduate school communities using both classical and modern topic modeling techniques.\n",
    "\n",
    "* Data Collection: We gathered a dataset of around a thousand Reddit posts and comments from r/college and r/GradSchool, focusing on those that mention feeling lonely or socially isolated.\n",
    "\n",
    "* LDA Topic Modeling: Using LDA, we uncovered a set of broad topics. These topics, as indicated by their top words, likely correspond to common themes such as struggles to make friends on campus, feelings of isolation, mental health challenges, and possibly academic or workload-related loneliness. LDA provided an initial unsupervised categorization of the text data.\n",
    "\n",
    "* Sentence Embeddings & Clustering: By converting each text to a BERT-based sentence embedding, we captured semantic similarities beyond just word overlap. KMeans clustering on these embeddings grouped the posts in a way that may align with latent themes (somewhat analogous to the LDA topics, but potentially grouping posts that express the same sentiment even if they use different words). The t-SNE visualization illustrated how some clusters are well-separated (indicating distinct themes) while others might overlap (indicating related or less distinct themes).\n",
    "\n",
    "* BERTopic Modeling: BERTopic, combining BERT embeddings and c-TF-IDF, found a set of topics automatically. The top words for each BERTopic topic gave us more nuanced insight. We might observe, for example, separate topics for freshmen struggling to socialize, graduate students feeling isolated in research, general social anxiety, or seeking advice for loneliness. BERTopic's topics often aligned with intuitive categories and its interactive visualization allowed for an in-depth exploration of the topic space."
   ]
  }
 ],
 "metadata": {
  "kernelspec": {
   "display_name": "si649",
   "language": "python",
   "name": "python3"
  },
  "language_info": {
   "codemirror_mode": {
    "name": "ipython",
    "version": 3
   },
   "file_extension": ".py",
   "mimetype": "text/x-python",
   "name": "python",
   "nbconvert_exporter": "python",
   "pygments_lexer": "ipython3",
   "version": "3.11.5"
  }
 },
 "nbformat": 4,
 "nbformat_minor": 5
}
